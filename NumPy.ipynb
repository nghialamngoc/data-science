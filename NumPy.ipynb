{
 "cells": [
  {
   "cell_type": "code",
   "execution_count": 64,
   "id": "def5e948-5d3f-4a50-91d7-f6f564bdcb8f",
   "metadata": {},
   "outputs": [],
   "source": [
    "import numpy as np\n",
    "import matplotlib.pyplot as plt"
   ]
  },
  {
   "cell_type": "markdown",
   "id": "89c3a059-2e52-4d72-a57e-59dc78303b3f",
   "metadata": {},
   "source": [
    "**Tạo 1 mảng Numpy từ 1 Python Lists**"
   ]
  },
  {
   "cell_type": "code",
   "execution_count": 57,
   "id": "2b21675e-73d8-406c-a7e8-d368a868dbb8",
   "metadata": {},
   "outputs": [
    {
     "data": {
      "text/plain": [
       "array([1, 2, 3, 4])"
      ]
     },
     "execution_count": 57,
     "metadata": {},
     "output_type": "execute_result"
    }
   ],
   "source": [
    "np.array([1,2,3,4])"
   ]
  },
  {
   "cell_type": "code",
   "execution_count": 58,
   "id": "286a07a0-df0b-4da8-8e35-fe3bef615169",
   "metadata": {},
   "outputs": [
    {
     "data": {
      "text/plain": [
       "array([3.14, 4.  , 2.  , 3.  ])"
      ]
     },
     "execution_count": 58,
     "metadata": {},
     "output_type": "execute_result"
    }
   ],
   "source": [
    "np.array([3.14, 4,2,3])"
   ]
  },
  {
   "cell_type": "code",
   "execution_count": 59,
   "id": "ee470cb0-de41-4572-9c3a-871efe0e4b09",
   "metadata": {},
   "outputs": [
    {
     "data": {
      "text/plain": [
       "array([1., 2., 3., 4.], dtype=float32)"
      ]
     },
     "execution_count": 59,
     "metadata": {},
     "output_type": "execute_result"
    }
   ],
   "source": [
    "np.array([1,2,3,4], dtype=\"float32\")"
   ]
  },
  {
   "cell_type": "markdown",
   "id": "ea6a8f88-7dcf-42ac-a9d2-de80a5250979",
   "metadata": {},
   "source": [
    "**shape: kích thước mảng.\n",
    "ndim: số chiều.\n",
    "size: tổng số phần tử.\n",
    "dtype: kiểu dữ liệu**"
   ]
  },
  {
   "cell_type": "code",
   "execution_count": 60,
   "id": "39b778ef-9d55-4449-b187-239c829fc223",
   "metadata": {},
   "outputs": [
    {
     "name": "stdout",
     "output_type": "stream",
     "text": [
      "Thông tin a1: kích thước:  (4,) , số chiều:  1 , tổng phần tử:  4 , kiểu dữ liệu:  int64\n",
      "Thông tin a2: kích thước:  (2, 3) , số chiều:  2 , tổng phần tử:  6 , kiểu dữ liệu:  float64\n"
     ]
    }
   ],
   "source": [
    "a1 = np.array([1,2,3,4])\n",
    "a2 = np.array([[1,2,3],[4.1,5,6]])\n",
    "print(\"Thông tin a1: kích thước: \", a1.shape, \", số chiều: \", a1.ndim, \", tổng phần tử: \", a1.size, \", kiểu dữ liệu: \", a1.dtype)\n",
    "print(\"Thông tin a2: kích thước: \", a2.shape, \", số chiều: \", a2.ndim, \", tổng phần tử: \", a2.size, \", kiểu dữ liệu: \", a2.dtype)"
   ]
  },
  {
   "cell_type": "markdown",
   "id": "c9eebf66-82c3-417c-94e3-ba4f42ae378c",
   "metadata": {},
   "source": [
    "# Tạo một mảng NumPy từ những hàm build in\n",
    "\n",
    "## Hàm numpy.zeros()\n",
    "\n",
    "### 1. Giới thiệu\n",
    "`numpy.zeros()` là một hàm trong thư viện NumPy dùng để tạo mảng với tất cả phần tử là số 0.\n",
    "\n",
    "### 2. Cú pháp\n",
    "```python\n",
    "numpy.zeros(shape, dtype=float, order='C')\n",
    "```\n",
    "\n",
    "Trong đó:\n",
    "- **shape**: kích thước mảng (tuple hoặc int)\n",
    "- **dtype**: kiểu dữ liệu của các phần tử (mặc định là float)\n",
    "- **order**: thứ tự lưu trữ trong bộ nhớ ('C' hoặc 'F')"
   ]
  },
  {
   "cell_type": "code",
   "execution_count": 67,
   "id": "df90c874-14c5-4750-8ebc-1f4e9219ee60",
   "metadata": {},
   "outputs": [
    {
     "name": "stdout",
     "output_type": "stream",
     "text": [
      "[0. 0. 0. 0. 0.]\n",
      "[0 0 0]\n",
      "[[0. 0. 0.]\n",
      " [0. 0. 0.]]\n",
      "[0. 0. 0.]\n",
      "[0 0 0]\n",
      "[False False False]\n"
     ]
    }
   ],
   "source": [
    "# Tạo mảng 5 phần tử\n",
    "arr1 = np.zeros(5)\n",
    "print(arr1)  # [0. 0. 0. 0. 0.]\n",
    "\n",
    "# Chỉ định kiểu dữ liệu int\n",
    "arr2 = np.zeros(3, dtype=int)\n",
    "print(arr2)  # [0 0 0]\n",
    "\n",
    "# Tạo ma trận 2x3\n",
    "arr3 = np.zeros((2, 3))\n",
    "print(arr3)\n",
    "# [[0. 0. 0.]\n",
    "#  [0. 0. 0.]]\n",
    "\n",
    "# Float (mặc định)\n",
    "arr_float = np.zeros(3)                 # [0. 0. 0.]\n",
    "print(arr_float)\n",
    "\n",
    "# Integer\n",
    "arr_int = np.zeros(3, dtype=int)        # [0 0 0]\n",
    "print(arr_int)\n",
    "\n",
    "# Boolean\n",
    "arr_bool = np.zeros(3, dtype=bool)      # [False False False]\n",
    "print(arr_bool)"
   ]
  },
  {
   "cell_type": "markdown",
   "id": "0a94762a-5e16-4ab5-ab42-84bdfbe2f4af",
   "metadata": {},
   "source": [
    "## Hàm numpy.ones()\n",
    "\n",
    "### 1. Giới thiệu\n",
    "`numpy.ones()` là một hàm trong thư viện NumPy dùng để tạo mảng với tất cả phần tử là số 1.\n",
    "\n",
    "### 2. Cú pháp\n",
    "```python\n",
    "numpy.ones(shape, dtype=float, order='C')\n",
    "```\n",
    "\n",
    "Trong đó:\n",
    "- **shape**: kích thước mảng (tuple hoặc int)\n",
    "- **dtype**: kiểu dữ liệu của các phần tử (mặc định là float)\n",
    "- **order**: thứ tự lưu trữ trong bộ nhớ ('C' hoặc 'F')\n",
    "\n",
    "## Hàm numpy.full()\n",
    "\n",
    "### 1. Giới thiệu\n",
    "``numpy.full()`` là hàm trong NumPy dùng để tạo mảng với tất cả phần tử là một giá trị được chỉ định\n",
    "\n",
    "### 2. Cú pháp\n",
    "```python\n",
    "numpy.full(shape, fill_value, dtype=None, order='C')\n",
    "```\n",
    "\n",
    "Trong đó:\n",
    "- **shape**: kích thước mảng (tuple hoặc int)\n",
    "- **fill_value**: giá trị để điền vào mảng\n",
    "- **dtype**: kiểu dữ liệu của các phần tử (mặc định là float)\n",
    "- **order**: thứ tự lưu trữ trong bộ nhớ ('C' hoặc 'F')\n",
    "\n",
    "### 1. Giới thiệu\n",
    "`numpy.arange()` là hàm trong NumPy dùng để tạo mảng với dãy số theo một khoảng cách đều nhau, tương tự range() của Python nhưng trả về mảng NumPy.\n",
    "\n",
    "### 2. Cú pháp\n",
    "```python\n",
    "numpy.arange([start,] stop[, step,], dtype=None)\n",
    "```\n",
    "\n",
    "Trong đó:\n",
    "- **start**: giá trị bắt đầu (mặc định là 0)\n",
    "- **stop**: giá trị kết thúc (không bao gồm)\n",
    "- **step**: bước nhảy (mặc định là 1)\n",
    "- **dtype**: kiểu dữ liệu của các phần tử"
   ]
  },
  {
   "cell_type": "code",
   "execution_count": 62,
   "id": "8a62f475-9b6d-464e-8d0f-8896f58cb3b2",
   "metadata": {},
   "outputs": [
    {
     "name": "stdout",
     "output_type": "stream",
     "text": [
      "[0 1 2 3 4]\n",
      "[0. 1. 2. 3.]\n",
      "[2 3 4 5 6 7]\n",
      "[0 2 4 6 8]\n",
      "[ 0 -2 -4 -6 -8]\n"
     ]
    }
   ],
   "source": [
    "# Tạo mảng từ 0 đến 5\n",
    "arr1 = np.arange(5)\n",
    "print(arr1)  # [0 1 2 3 4]\n",
    "\n",
    "# Chỉ định kiểu dữ liệu float\n",
    "arr2 = np.arange(4, dtype=float)\n",
    "print(arr2)  # [0. 1. 2. 3.]\n",
    "\n",
    "# Tạo mảng từ 2 đến 8\n",
    "arr3 = np.arange(2, 8)\n",
    "print(arr3)  # [2 3 4 5 6 7]\n",
    "\n",
    "# Tạo mảng với bước nhảy 2\n",
    "arr5 = np.arange(0, 10, 2)\n",
    "print(arr5)  # [0 2 4 6 8]\n",
    "\n",
    "# Mảng số âm giảm dần\n",
    "arr6 = np.arange(0, -10, -2)\n",
    "print(arr6)  # [ 0 -2 -4 -6 -8]"
   ]
  },
  {
   "cell_type": "markdown",
   "id": "e75c2445-82ea-4c27-b3c4-50f539ad823b",
   "metadata": {},
   "source": [
    "## Hàm numpy.linspace()\n",
    "\n",
    "### 1. Giới thiệu\n",
    "`numpy.linspace()` là hàm trong NumPy dùng để tạo mảng với n phần tử được chia đều trong một khoảng cho trước.\n",
    "\n",
    "### 2. Cú pháp\n",
    "```python\n",
    "numpy.linspace(start, stop, num=50, endpoint=True, retstep=False, dtype=None, axis=0)\n",
    "```\n",
    "\n",
    "Trong đó:\n",
    "- **start**: giá trị bắt đầu\n",
    "- **stop**: giá trị kết thúc\n",
    "- **num**: số lượng phần tử (mặc định là 50)\n",
    "- **endpoint**: bao gồm điểm cuối hay không (mặc định True)\n",
    "- **retstep**: trả về khoảng cách giữa các điểm (mặc định False)\n",
    "- **dtype**: kiểu dữ liệu của mảng"
   ]
  },
  {
   "cell_type": "code",
   "execution_count": 63,
   "id": "a93e91fe-6734-4136-bef5-fb72a57a4c88",
   "metadata": {},
   "outputs": [
    {
     "name": "stdout",
     "output_type": "stream",
     "text": [
      "[0.   0.25 0.5  0.75 1.  ]\n",
      "[ 0.          3.33333333  6.66666667 10.        ]\n",
      "[0.  0.2 0.4 0.6 0.8]\n",
      "Array: [0.   0.25 0.5  0.75 1.  ]\n",
      "Step size: 0.25\n"
     ]
    }
   ],
   "source": [
    "# Tạo 5 số từ 0 đến 1\n",
    "arr1 = np.linspace(0, 1, 5)\n",
    "print(arr1)  # [0.   0.25 0.5  0.75 1.  ]\n",
    "\n",
    "# Tạo 4 số từ 0 đến 10\n",
    "arr2 = np.linspace(0, 10, 4)\n",
    "print(arr2)  # [ 0.  3.33333333  6.66666667 10.  ]\n",
    "\n",
    "# 5 số từ 0 đến 1, không bao gồm 1\n",
    "arr = np.linspace(0, 1, 5, endpoint=False)\n",
    "print(arr)  # [0.  0.2 0.4 0.6 0.8]\n",
    "\n",
    "# Lấy thêm bước nhảy\n",
    "arr, step = np.linspace(0, 1, 5, retstep=True)\n",
    "print(f\"Array: {arr}\")  # Array: [0.   0.25 0.5  0.75 1.  ]\n",
    "print(f\"Step size: {step}\")  # Step size: 0.25"
   ]
  },
  {
   "cell_type": "code",
   "execution_count": 68,
   "id": "e9bf4702-daa6-49d6-8f47-84204f3a3639",
   "metadata": {},
   "outputs": [
    {
     "data": {
      "image/png": "[encoded data removed]",
      "text/plain": [
       "<Figure size 640x480 with 1 Axes>"
      ]
     },
     "metadata": {},
     "output_type": "display_data"
    }
   ],
   "source": [
    "# Tạo điểm cho đồ thị sin\n",
    "x = np.linspace(-np.pi, np.pi, 100)\n",
    "y = np.sin(x)\n",
    "\n",
    "# Dùng với matplotlib\n",
    "import matplotlib.pyplot as plt\n",
    "plt.plot(x, y)\n",
    "plt.show()"
   ]
  },
  {
   "cell_type": "markdown",
   "id": "8640889d-7b67-4c39-a078-0afab698b147",
   "metadata": {},
   "source": [
    "## `random`"
   ]
  },
  {
   "cell_type": "markdown",
   "id": "e2241bbd-63a9-4207-9d63-551c2470bb73",
   "metadata": {},
   "source": [
    "## 2. Các hàm cơ bản\n",
    "\n",
    "### 2.1 rand() - Phân phối đều [0,1)\n",
    "\n",
    "`numpy.random.rand()` là hàm dùng để tạo mảng ngẫu nhiên với các số nằm trong khoảng [0, 1) theo phân phối đều.\n"
   ]
  },
  {
   "cell_type": "code",
   "execution_count": 73,
   "id": "4ba3824f-a5a2-46d6-a3e6-2081bca98970",
   "metadata": {},
   "outputs": [
    {
     "name": "stdout",
     "output_type": "stream",
     "text": [
      "[0.54617546 0.97295811 0.52623921 0.83619717 0.62350662]\n",
      "[[0.20125996 0.75249236 0.05220505]\n",
      " [0.11035687 0.26729882 0.45940614]]\n"
     ]
    }
   ],
   "source": [
    "arr1 = np.random.rand(5)\n",
    "print(arr1)\n",
    "\n",
    "arr2 = np.random.rand(2, 3)\n",
    "print(arr2)"
   ]
  },
  {
   "cell_type": "markdown",
   "id": "17bfc9c3-b0a5-4c6e-b885-ba442300aa90",
   "metadata": {},
   "source": [
    "### 2.2 randn() - Phân phối chuẩn (Gaussian)\n"
   ]
  },
  {
   "cell_type": "code",
   "execution_count": 77,
   "id": "47f71af5-314c-4df0-837a-d4f67a46b4d8",
   "metadata": {},
   "outputs": [
    {
     "name": "stdout",
     "output_type": "stream",
     "text": [
      "-1.4576623572976428\n",
      "[-0.41351077  0.10396714 -0.07990105  0.23982338]\n",
      "[[ 0.17889935 -0.46429009  0.60141763]\n",
      " [ 1.89082173 -0.14516115  1.65907037]]\n"
     ]
    }
   ],
   "source": [
    "x = np.random.randn()      # một số\n",
    "arr1 = np.random.randn(4)  # mảng 4 số\n",
    "arr2 = np.random.randn(2,3)  # ma trận 2x3\n",
    "\n",
    "print(x)     \n",
    "print(arr1)  \n",
    "print(arr2) "
   ]
  },
  {
   "cell_type": "markdown",
   "id": "9b9b10b1-5f1b-4d78-bc96-5fd45620d360",
   "metadata": {},
   "source": [
    "### 2.3 randint() - Số nguyên ngẫu nhiên"
   ]
  },
  {
   "cell_type": "code",
   "execution_count": 78,
   "id": "4bd2baff-28d0-4d35-9784-b7805b95d5e8",
   "metadata": {},
   "outputs": [
    {
     "name": "stdout",
     "output_type": "stream",
     "text": [
      "0\n",
      "9\n",
      "[[7 9 4]\n",
      " [4 6 4]\n",
      " [5 2 1]]\n"
     ]
    }
   ],
   "source": [
    "# Tạo số nguyên ngẫu nhiên\n",
    "x = np.random.randint(10)        # từ 0 đến 9\n",
    "y = np.random.randint(5, 10)     # từ 5 đến 9\n",
    "arr = np.random.randint(1, 10, size=(3,3))  # ma trận 3x3\n",
    "\n",
    "print(x) \n",
    "print(y)\n",
    "print(arr)  "
   ]
  },
  {
   "cell_type": "markdown",
   "id": "10beeb02-dcfc-4a09-a6f7-e2439a92f033",
   "metadata": {},
   "source": [
    "## 3. Các hàm phân phối xác suất\n",
    "\n",
    "### 3.1 normal() - Phân phối chuẩn với tham số\n",
    "\n",
    "`numpy.random.normal()` là hàm tạo số ngẫu nhiên theo phân phối chuẩn (Gaussian/Normal distribution) với các tham số mean (trung bình) và standard deviation (độ lệch chuẩn).\n",
    "\n",
    "**numpy.random.normal(loc=0.0, scale=1.0, size=None)**\n",
    "\n",
    "Trong đó:\n",
    "- **loc**: giá trị trung bình (mean) của phân phối (mặc định = 0.0)\n",
    "- **scale**: độ lệch chuẩn (standard deviation) của phân phối (mặc định = 1.0)\n",
    "- **size**: kích thước của mảng đầu ra (None sẽ trả về một số)\n"
   ]
  },
  {
   "cell_type": "code",
   "execution_count": 82,
   "id": "4580431b-cbfb-471f-9a23-ae005e51dd96",
   "metadata": {},
   "outputs": [
    {
     "name": "stdout",
     "output_type": "stream",
     "text": [
      "[ 1.31294009  0.58658025  0.03808966  1.39313154 -1.57263033 -0.22415696\n",
      " -0.00556051 -1.36547149  0.8541315  -0.16017273]\n",
      "0.08568810236985751\n",
      "0.9528841266423698\n",
      "[ 95.48765224  75.90709211  71.43254089 110.54321197 111.48344158\n",
      "  92.32253604  90.34236069 114.50157931  92.38754435 103.96329016]\n",
      "95.8371249339665\n",
      "13.86661125252818\n"
     ]
    }
   ],
   "source": [
    "# Phân phối chuẩn với mean=0, std=1\n",
    "arr1 = np.random.normal(0, 1, 10)\n",
    "\n",
    "# Phân phối chuẩn với mean=100, std=15\n",
    "arr2 = np.random.normal(100, 15, 10)\n",
    "\n",
    "print(arr1)\n",
    "print(np.mean(arr1))    # gần 0\n",
    "print(np.std(arr1))     # gần 1\n",
    "\n",
    "print(arr2)\n",
    "print(np.mean(arr2))    # gần 100\n",
    "print(np.std(arr2))     # gần 15"
   ]
  },
  {
   "cell_type": "markdown",
   "id": "e607cc03-af8f-4382-bb2e-f495656aeaee",
   "metadata": {},
   "source": [
    "### 3.2 uniform() - Phân phối đều với tham số\n"
   ]
  },
  {
   "cell_type": "code",
   "execution_count": 84,
   "id": "22123eb4-d357-424c-abb9-fc736ac5b752",
   "metadata": {},
   "outputs": [
    {
     "data": {
      "text/plain": [
       "array([4.53379512, 8.34485149, 1.40934934, 4.96856409, 4.76324059,\n",
       "       2.31649551, 5.82498184, 5.51414439, 1.22601793, 8.29315222])"
      ]
     },
     "execution_count": 84,
     "metadata": {},
     "output_type": "execute_result"
    }
   ],
   "source": [
    "np.random.uniform(0, 10, 10)"
   ]
  },
  {
   "cell_type": "markdown",
   "id": "be59bdf5-fed7-4dca-983a-761dc5060d02",
   "metadata": {},
   "source": [
    "### 3.3 choice() - Chọn ngẫu nhiên từ mảng"
   ]
  },
  {
   "cell_type": "code",
   "execution_count": 86,
   "id": "abafae34-6181-4cdf-97d9-327ebeba5111",
   "metadata": {},
   "outputs": [
    {
     "name": "stdout",
     "output_type": "stream",
     "text": [
      "3\n",
      "[3 3 3]\n",
      "[3 2 3]\n"
     ]
    }
   ],
   "source": [
    "# Chọn ngẫu nhiên từ mảng\n",
    "arr = np.array([1, 2, 3, 4, 5])\n",
    "x = np.random.choice(arr)             # một phần tử\n",
    "samples = np.random.choice(arr, 3)    # 3 phần tử\n",
    "with_prob = np.random.choice(arr, 3, p=[0.1, 0.2, 0.3, 0.2, 0.2])  # với xác suất\n",
    "\n",
    "print(x)          \n",
    "print(samples)      \n",
    "print(with_prob)   "
   ]
  },
  {
   "cell_type": "markdown",
   "id": "b05ebf4b-ddc1-493e-ae69-598f932ad33b",
   "metadata": {},
   "source": [
    "## 4. Các hàm xáo trộn\n",
    "\n",
    "### 4.1 shuffle() - Xáo trộn mảng"
   ]
  },
  {
   "cell_type": "code",
   "execution_count": 87,
   "id": "b249d8dd-44e5-4294-b0cc-95044be95072",
   "metadata": {},
   "outputs": [
    {
     "name": "stdout",
     "output_type": "stream",
     "text": [
      "[2 3 4 5 1]\n"
     ]
    }
   ],
   "source": [
    "# Xáo trộn mảng tại chỗ\n",
    "arr = np.array([1, 2, 3, 4, 5])\n",
    "np.random.shuffle(arr)\n",
    "print(arr)  # ví dụ: [3 1 5 2 4]"
   ]
  },
  {
   "cell_type": "markdown",
   "id": "96fdc8ae-237e-476d-9979-aaaa93e3eefb",
   "metadata": {},
   "source": [
    "### 4.2 permutation() - Tạo hoán vị ngẫu nhiên"
   ]
  },
  {
   "cell_type": "code",
   "execution_count": 88,
   "id": "b4803233-8447-462e-ab37-15a4c9204f20",
   "metadata": {},
   "outputs": [
    {
     "name": "stdout",
     "output_type": "stream",
     "text": [
      "[1 2 3 4 5]\n",
      "[4 3 1 2 5]\n"
     ]
    }
   ],
   "source": [
    "arr = np.array([1, 2, 3, 4, 5])\n",
    "perm = np.random.permutation(arr)\n",
    "print(arr)   # [1 2 3 4 5]\n",
    "print(perm)  # ví dụ: [3 1 5 2 4]"
   ]
  },
  {
   "cell_type": "markdown",
   "id": "64f13237-64ae-474e-9e4c-8efb086093e3",
   "metadata": {},
   "source": [
    "# Indexing và Slicing trong NumPy Arrays\n",
    "\n",
    "## 1. Giới thiệu\n",
    "\n",
    "Indexing và Slicing là các phương pháp để truy cập và trích xuất dữ liệu từ mảng NumPy.\n",
    "\n",
    "## 2. Indexing cơ bản\n"
   ]
  },
  {
   "cell_type": "code",
   "execution_count": 96,
   "id": "46d61a4a-5ba9-4fce-a52e-493f5664373f",
   "metadata": {},
   "outputs": [
    {
     "name": "stdout",
     "output_type": "stream",
     "text": [
      "1\n",
      "3\n",
      "5\n",
      "4\n",
      "=================================\n",
      "1\n",
      "6\n",
      "9\n",
      "[1 2 3]\n",
      "[7 8 9]\n"
     ]
    }
   ],
   "source": [
    "arr = np.array([1, 2, 3, 4, 5])\n",
    "\n",
    "# Index dương (từ trái sang phải)\n",
    "print(arr[0])     # 1 (phần tử đầu tiên)\n",
    "print(arr[2])     # 3\n",
    "print(arr[-1])    # 5 (phần tử cuối cùng)\n",
    "print(arr[-2])    # 4 (phần tử áp cuối)\n",
    "\n",
    "print(\"=================================\")\n",
    "\n",
    "arr_2d = np.array([[1, 2, 3],\n",
    "                   [4, 5, 6],\n",
    "                   [7, 8, 9]])\n",
    "\n",
    "# Truy cập theo hàng, cột\n",
    "print(arr_2d[0, 0])    # 1 (hàng 0, cột 0)\n",
    "print(arr_2d[1, 2])    # 6 (hàng 1, cột 2)\n",
    "print(arr_2d[-1, -1])  # 9 (hàng cuối, cột cuối)\n",
    "\n",
    "# Truy cập từng hàng\n",
    "print(arr_2d[0])    # [1 2 3] (hàng đầu tiên)\n",
    "print(arr_2d[-1])   # [7 8 9] (hàng cuối)"
   ]
  },
  {
   "cell_type": "markdown",
   "id": "139d6725-a6d3-4012-b6db-5838e9cc47fd",
   "metadata": {},
   "source": [
    "## 3. Slicing cơ bản\n"
   ]
  },
  {
   "cell_type": "code",
   "execution_count": 102,
   "id": "7a56f116-0b3d-4b6e-abc4-2fc2047bed96",
   "metadata": {},
   "outputs": [
    {
     "name": "stdout",
     "output_type": "stream",
     "text": [
      "[2 3 4]\n",
      "[0 1 2 3]\n",
      "[6 7 8 9]\n",
      "[1 3 5]\n",
      "[9 8 7 6 5 4 3 2 1 0]\n",
      "9\n",
      "=================================\n",
      "[[1 2 3 4]\n",
      " [5 6 7 8]]\n",
      "[[ 2  3]\n",
      " [ 6  7]\n",
      " [10 11]]\n",
      "[[2 3]\n",
      " [6 7]]\n",
      "=================================\n",
      "[[ 1  2  3  4]\n",
      " [ 9 10 11 12]]\n",
      "[[ 1  3]\n",
      " [ 5  7]\n",
      " [ 9 11]\n",
      " [13 15]]\n"
     ]
    }
   ],
   "source": [
    "arr = np.array([0, 1, 2, 3, 4, 5, 6, 7, 8, 9])\n",
    "\n",
    "# Cú pháp: arr[start:end:step]\n",
    "print(arr[2:5])     # [2 3 4] (từ index 2 đến 4)\n",
    "print(arr[:4])      # [0 1 2 3] (từ đầu đến index 3)\n",
    "print(arr[6:])      # [6 7 8 9] (từ index 6 đến cuối)\n",
    "print(arr[1:7:2])   # [1 3 5] (từ 1 đến 6, bước 2)\n",
    "print(arr[::-1])    # [9 8 7 6 5 4 3 2 1 0] (đảo ngược)\n",
    "print(arr[-1])      # 9\n",
    "\n",
    "print(\"=================================\")\n",
    "\n",
    "arr_2d = np.array([[1, 2, 3, 4],\n",
    "                   [5, 6, 7, 8],\n",
    "                   [9, 10, 11, 12]])\n",
    "\n",
    "# Lấy các hàng\n",
    "print(arr_2d[0:2])    # 2 hàng đầu\n",
    "# [[1 2 3 4]\n",
    "#  [5 6 7 8]]\n",
    "\n",
    "# Lấy các cột\n",
    "print(arr_2d[:, 1:3])  # cột 1 và 2\n",
    "# [[ 2  3]\n",
    "#  [ 6  7]\n",
    "#  [10 11]]\n",
    "\n",
    "# Lấy submatrix\n",
    "print(arr_2d[0:2, 1:3])\n",
    "# [[2 3]\n",
    "#  [6 7]]\n",
    "\n",
    "print(\"=================================\")\n",
    "\n",
    "arr_2d = np.array([[1, 2, 3, 4],\n",
    "                   [5, 6, 7, 8],\n",
    "                   [9, 10, 11, 12],\n",
    "                   [13, 14, 15, 16]])\n",
    "\n",
    "# Lấy mỗi hàng thứ 2\n",
    "print(arr_2d[::2])\n",
    "# [[ 1  2  3  4]\n",
    "#  [ 9 10 11 12]]\n",
    "\n",
    "# Lấy mỗi cột thứ 2\n",
    "print(arr_2d[:, ::2])\n",
    "# [[ 1  3]\n",
    "#  [ 5  7]\n",
    "#  [ 9 11]\n",
    "#  [13 15]]"
   ]
  },
  {
   "cell_type": "markdown",
   "id": "7c448daf-879e-4e65-83a6-3acc7eee3f0b",
   "metadata": {},
   "source": [
    "## 4. Advanced Indexing\n"
   ]
  },
  {
   "cell_type": "code",
   "execution_count": 110,
   "id": "ba1c1e35-732e-4b19-8c9c-216916f5ccde",
   "metadata": {},
   "outputs": [
    {
     "name": "stdout",
     "output_type": "stream",
     "text": [
      "[False False  True  True  True]\n",
      "[3 4 5]\n",
      "[3 4]\n",
      "=================================\n",
      "[10 30 50]\n",
      "[[1 2 3]\n",
      " [7 8 9]]\n",
      "[2 8]\n"
     ]
    }
   ],
   "source": [
    "arr = np.array([1, 2, 3, 4, 5])\n",
    "\n",
    "# Tạo mask boolean\n",
    "mask = arr > 2\n",
    "print(mask)  # [False False True True True]\n",
    "\n",
    "# Lọc các phần tử thỏa điều kiện\n",
    "print(arr[mask])  # [3 4 5]\n",
    "\n",
    "# Kết hợp nhiều điều kiện\n",
    "print(arr[(arr > 2) & (arr < 5)])  # [3 4]\n",
    "\n",
    "print(\"=================================\")\n",
    "\n",
    "arr = np.array([10, 20, 30, 40, 50])\n",
    "\n",
    "# Lấy các phần tử theo index\n",
    "indices = [0, 2, 4]\n",
    "print(arr[indices])  # [10 30 50]\n",
    "\n",
    "# Với mảng 2D\n",
    "arr_2d = np.array([[1, 2, 3],\n",
    "                   [4, 5, 6],\n",
    "                   [7, 8, 9]])\n",
    "\n",
    "# Lấy hàng cụ thể\n",
    "rows = np.array([0, 2])\n",
    "print(arr_2d[rows])\n",
    "# [[1 2 3]\n",
    "#  [7 8 9]]\n",
    "\n",
    "# Lấy các phần tử cụ thể\n",
    "print(arr_2d[rows, 1])  # [2 8]\n"
   ]
  },
  {
   "cell_type": "markdown",
   "id": "284b1081-5829-43ed-b745-4b790e9c48be",
   "metadata": {},
   "source": [
    "## 6. Lưu ý quan trọng\n",
    "\n",
    "1. **View vs Copy**\n",
    "\n",
    "```python\n",
    "arr = np.array([1, 2, 3, 4, 5])\n",
    "\n",
    "# Slicing tạo view\n",
    "view = arr[1:4]\n",
    "view[0] = 10  # thay đổi arr gốc\n",
    "\n",
    "# Fancy indexing tạo copy\n",
    "copy = arr[[1, 2, 3]]\n",
    "copy[0] = 10  # không thay đổi arr gốc\n",
    "```\n",
    "\n",
    "2. **Tránh lỗi phổ biến**\n",
    "\n",
    "```python\n",
    "# Index ngoài range\n",
    "# arr[10]  # IndexError\n",
    "\n",
    "# Số chiều không khớp\n",
    "arr_2d = np.array([[1, 2], [3, 4]])\n",
    "# arr_2d[0, 0, 0]  # IndexError\n",
    "```\n",
    "\n",
    "3. **Best Practices**\n",
    "\n",
    "```python\n",
    "# Kiểm tra shape trước khi indexing\n",
    "print(arr.shape)\n",
    "\n",
    "# Sử dụng negative indexing cẩn thận\n",
    "# Ưu tiên sử dụng positive indexing khi có thể\n",
    "```\n"
   ]
  }
 ],
 "metadata": {
  "kernelspec": {
   "display_name": "Python 3 (ipykernel)",
   "language": "python",
   "name": "python3"
  },
  "language_info": {
   "codemirror_mode": {
    "name": "ipython",
    "version": 3
   },
   "file_extension": ".py",
   "mimetype": "text/x-python",
   "name": "python",
   "nbconvert_exporter": "python",
   "pygments_lexer": "ipython3",
   "version": "3.12.4"
  }
 },
 "nbformat": 4,
 "nbformat_minor": 5
}
